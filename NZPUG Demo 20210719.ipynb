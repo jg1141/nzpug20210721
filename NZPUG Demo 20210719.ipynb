{
 "cells": [
  {
   "cell_type": "code",
   "execution_count": 1,
   "id": "impaired-eligibility",
   "metadata": {},
   "outputs": [
    {
     "name": "stdout",
     "output_type": "stream",
     "text": [
      "Python 3.6.13\r\n"
     ]
    }
   ],
   "source": [
    "!python --version"
   ]
  },
  {
   "cell_type": "code",
   "execution_count": 2,
   "id": "rural-arkansas",
   "metadata": {},
   "outputs": [
    {
     "name": "stdout",
     "output_type": "stream",
     "text": [
      "Requirement already satisfied: humanize in /srv/conda/envs/notebook/lib/python3.6/site-packages (3.10.0)\n",
      "Requirement already satisfied: numpy in /srv/conda/envs/notebook/lib/python3.6/site-packages (1.19.5)\n",
      "Requirement already satisfied: pandas in /srv/conda/envs/notebook/lib/python3.6/site-packages (1.1.5)\n",
      "Requirement already satisfied: plotly in /srv/conda/envs/notebook/lib/python3.6/site-packages (5.1.0)\n",
      "Requirement already satisfied: pyperclip in /srv/conda/envs/notebook/lib/python3.6/site-packages (1.8.2)\n",
      "Requirement already satisfied: sidetable in /srv/conda/envs/notebook/lib/python3.6/site-packages (0.8.0)\n",
      "Requirement already satisfied: setuptools in /srv/conda/envs/notebook/lib/python3.6/site-packages (from humanize) (49.6.0.post20210108)\n",
      "Requirement already satisfied: python-dateutil>=2.7.3 in /srv/conda/envs/notebook/lib/python3.6/site-packages (from pandas) (2.8.1)\n",
      "Requirement already satisfied: pytz>=2017.2 in /srv/conda/envs/notebook/lib/python3.6/site-packages (from pandas) (2020.1)\n",
      "Requirement already satisfied: six>=1.5 in /srv/conda/envs/notebook/lib/python3.6/site-packages (from python-dateutil>=2.7.3->pandas) (1.15.0)\n",
      "Requirement already satisfied: tenacity>=6.2.0 in /srv/conda/envs/notebook/lib/python3.6/site-packages (from plotly) (8.0.1)\n"
     ]
    }
   ],
   "source": [
    "!pip install humanize numpy pandas plotly pyperclip sidetable"
   ]
  },
  {
   "cell_type": "code",
   "execution_count": 3,
   "id": "vocational-beginning",
   "metadata": {},
   "outputs": [
    {
     "name": "stdout",
     "output_type": "stream",
     "text": [
      "Requirement already satisfied: python-dotenv in /srv/conda/envs/notebook/lib/python3.6/site-packages (0.18.0)\r\n"
     ]
    }
   ],
   "source": [
    "!pip install python-dotenv"
   ]
  },
  {
   "cell_type": "code",
   "execution_count": 4,
   "id": "banned-struggle",
   "metadata": {},
   "outputs": [
    {
     "name": "stdout",
     "output_type": "stream",
     "text": [
      "Requirement already satisfied: asn1crypto==1.4.0 in /srv/conda/envs/notebook/lib/python3.6/site-packages (from -r https://raw.githubusercontent.com/snowflakedb/snowflake-connector-python/v2.4.6/tested_requirements/requirements_36.reqs (line 3)) (1.4.0)\n",
      "Requirement already satisfied: azure-common==1.1.25 in /srv/conda/envs/notebook/lib/python3.6/site-packages (from -r https://raw.githubusercontent.com/snowflakedb/snowflake-connector-python/v2.4.6/tested_requirements/requirements_36.reqs (line 4)) (1.1.25)\n",
      "Requirement already satisfied: azure-core==1.8.2 in /srv/conda/envs/notebook/lib/python3.6/site-packages (from -r https://raw.githubusercontent.com/snowflakedb/snowflake-connector-python/v2.4.6/tested_requirements/requirements_36.reqs (line 5)) (1.8.2)\n",
      "Requirement already satisfied: azure-storage-blob==12.5.0 in /srv/conda/envs/notebook/lib/python3.6/site-packages (from -r https://raw.githubusercontent.com/snowflakedb/snowflake-connector-python/v2.4.6/tested_requirements/requirements_36.reqs (line 6)) (12.5.0)\n",
      "Requirement already satisfied: boto3==1.15.18 in /srv/conda/envs/notebook/lib/python3.6/site-packages (from -r https://raw.githubusercontent.com/snowflakedb/snowflake-connector-python/v2.4.6/tested_requirements/requirements_36.reqs (line 7)) (1.15.18)\n",
      "Requirement already satisfied: botocore==1.18.18 in /srv/conda/envs/notebook/lib/python3.6/site-packages (from -r https://raw.githubusercontent.com/snowflakedb/snowflake-connector-python/v2.4.6/tested_requirements/requirements_36.reqs (line 8)) (1.18.18)\n",
      "Requirement already satisfied: certifi==2020.6.20 in /srv/conda/envs/notebook/lib/python3.6/site-packages (from -r https://raw.githubusercontent.com/snowflakedb/snowflake-connector-python/v2.4.6/tested_requirements/requirements_36.reqs (line 9)) (2020.6.20)\n",
      "Requirement already satisfied: cffi==1.14.3 in /srv/conda/envs/notebook/lib/python3.6/site-packages (from -r https://raw.githubusercontent.com/snowflakedb/snowflake-connector-python/v2.4.6/tested_requirements/requirements_36.reqs (line 10)) (1.14.3)\n",
      "Requirement already satisfied: chardet==3.0.4 in /srv/conda/envs/notebook/lib/python3.6/site-packages (from -r https://raw.githubusercontent.com/snowflakedb/snowflake-connector-python/v2.4.6/tested_requirements/requirements_36.reqs (line 11)) (3.0.4)\n",
      "Requirement already satisfied: cryptography==2.9.2 in /srv/conda/envs/notebook/lib/python3.6/site-packages (from -r https://raw.githubusercontent.com/snowflakedb/snowflake-connector-python/v2.4.6/tested_requirements/requirements_36.reqs (line 12)) (2.9.2)\n",
      "Requirement already satisfied: idna==2.10 in /srv/conda/envs/notebook/lib/python3.6/site-packages (from -r https://raw.githubusercontent.com/snowflakedb/snowflake-connector-python/v2.4.6/tested_requirements/requirements_36.reqs (line 13)) (2.10)\n",
      "Requirement already satisfied: isodate==0.6.0 in /srv/conda/envs/notebook/lib/python3.6/site-packages (from -r https://raw.githubusercontent.com/snowflakedb/snowflake-connector-python/v2.4.6/tested_requirements/requirements_36.reqs (line 14)) (0.6.0)\n",
      "Requirement already satisfied: jmespath==0.10.0 in /srv/conda/envs/notebook/lib/python3.6/site-packages (from -r https://raw.githubusercontent.com/snowflakedb/snowflake-connector-python/v2.4.6/tested_requirements/requirements_36.reqs (line 15)) (0.10.0)\n",
      "Requirement already satisfied: msrest==0.6.19 in /srv/conda/envs/notebook/lib/python3.6/site-packages (from -r https://raw.githubusercontent.com/snowflakedb/snowflake-connector-python/v2.4.6/tested_requirements/requirements_36.reqs (line 16)) (0.6.19)\n",
      "Requirement already satisfied: oauthlib==3.1.0 in /srv/conda/envs/notebook/lib/python3.6/site-packages (from -r https://raw.githubusercontent.com/snowflakedb/snowflake-connector-python/v2.4.6/tested_requirements/requirements_36.reqs (line 17)) (3.1.0)\n",
      "Requirement already satisfied: oscrypto==1.2.1 in /srv/conda/envs/notebook/lib/python3.6/site-packages (from -r https://raw.githubusercontent.com/snowflakedb/snowflake-connector-python/v2.4.6/tested_requirements/requirements_36.reqs (line 18)) (1.2.1)\n",
      "Requirement already satisfied: pycparser==2.20 in /srv/conda/envs/notebook/lib/python3.6/site-packages (from -r https://raw.githubusercontent.com/snowflakedb/snowflake-connector-python/v2.4.6/tested_requirements/requirements_36.reqs (line 19)) (2.20)\n",
      "Requirement already satisfied: pycryptodomex==3.9.8 in /srv/conda/envs/notebook/lib/python3.6/site-packages (from -r https://raw.githubusercontent.com/snowflakedb/snowflake-connector-python/v2.4.6/tested_requirements/requirements_36.reqs (line 20)) (3.9.8)\n",
      "Requirement already satisfied: PyJWT==1.7.1 in /srv/conda/envs/notebook/lib/python3.6/site-packages (from -r https://raw.githubusercontent.com/snowflakedb/snowflake-connector-python/v2.4.6/tested_requirements/requirements_36.reqs (line 21)) (1.7.1)\n",
      "Requirement already satisfied: pyOpenSSL==19.1.0 in /srv/conda/envs/notebook/lib/python3.6/site-packages (from -r https://raw.githubusercontent.com/snowflakedb/snowflake-connector-python/v2.4.6/tested_requirements/requirements_36.reqs (line 22)) (19.1.0)\n",
      "Requirement already satisfied: python-dateutil==2.8.1 in /srv/conda/envs/notebook/lib/python3.6/site-packages (from -r https://raw.githubusercontent.com/snowflakedb/snowflake-connector-python/v2.4.6/tested_requirements/requirements_36.reqs (line 23)) (2.8.1)\n",
      "Requirement already satisfied: pytz==2020.1 in /srv/conda/envs/notebook/lib/python3.6/site-packages (from -r https://raw.githubusercontent.com/snowflakedb/snowflake-connector-python/v2.4.6/tested_requirements/requirements_36.reqs (line 24)) (2020.1)\n",
      "Requirement already satisfied: requests==2.23.0 in /srv/conda/envs/notebook/lib/python3.6/site-packages (from -r https://raw.githubusercontent.com/snowflakedb/snowflake-connector-python/v2.4.6/tested_requirements/requirements_36.reqs (line 25)) (2.23.0)\n",
      "Requirement already satisfied: requests-oauthlib==1.3.0 in /srv/conda/envs/notebook/lib/python3.6/site-packages (from -r https://raw.githubusercontent.com/snowflakedb/snowflake-connector-python/v2.4.6/tested_requirements/requirements_36.reqs (line 26)) (1.3.0)\n",
      "Requirement already satisfied: s3transfer==0.3.3 in /srv/conda/envs/notebook/lib/python3.6/site-packages (from -r https://raw.githubusercontent.com/snowflakedb/snowflake-connector-python/v2.4.6/tested_requirements/requirements_36.reqs (line 27)) (0.3.3)\n",
      "Requirement already satisfied: six==1.15.0 in /srv/conda/envs/notebook/lib/python3.6/site-packages (from -r https://raw.githubusercontent.com/snowflakedb/snowflake-connector-python/v2.4.6/tested_requirements/requirements_36.reqs (line 28)) (1.15.0)\n",
      "Requirement already satisfied: urllib3==1.25.11 in /srv/conda/envs/notebook/lib/python3.6/site-packages (from -r https://raw.githubusercontent.com/snowflakedb/snowflake-connector-python/v2.4.6/tested_requirements/requirements_36.reqs (line 29)) (1.25.11)\n"
     ]
    }
   ],
   "source": [
    "!pip install -r https://raw.githubusercontent.com/snowflakedb/snowflake-connector-python/v2.4.6/tested_requirements/requirements_36.reqs"
   ]
  },
  {
   "cell_type": "code",
   "execution_count": 5,
   "id": "naked-boundary",
   "metadata": {},
   "outputs": [
    {
     "name": "stdout",
     "output_type": "stream",
     "text": [
      "Requirement already satisfied: pyarrow in /srv/conda/envs/notebook/lib/python3.6/site-packages (3.0.0)\r\n",
      "Requirement already satisfied: numpy>=1.16.6 in /srv/conda/envs/notebook/lib/python3.6/site-packages (from pyarrow) (1.19.5)\r\n"
     ]
    }
   ],
   "source": [
    "!pip install pyarrow"
   ]
  },
  {
   "cell_type": "code",
   "execution_count": 6,
   "id": "center-watch",
   "metadata": {},
   "outputs": [
    {
     "name": "stdout",
     "output_type": "stream",
     "text": [
      "Requirement already satisfied: snowflake-connector-python==2.4.6 in /srv/conda/envs/notebook/lib/python3.6/site-packages (2.4.6)\n",
      "Requirement already satisfied: setuptools>34.0.0 in /srv/conda/envs/notebook/lib/python3.6/site-packages (from snowflake-connector-python==2.4.6) (49.6.0.post20210108)\n",
      "Requirement already satisfied: cryptography<4.0.0,>=2.5.0 in /srv/conda/envs/notebook/lib/python3.6/site-packages (from snowflake-connector-python==2.4.6) (2.9.2)\n",
      "Requirement already satisfied: oscrypto<2.0.0 in /srv/conda/envs/notebook/lib/python3.6/site-packages (from snowflake-connector-python==2.4.6) (1.2.1)\n",
      "Requirement already satisfied: idna<3,>=2.5 in /srv/conda/envs/notebook/lib/python3.6/site-packages (from snowflake-connector-python==2.4.6) (2.10)\n",
      "Requirement already satisfied: pyOpenSSL<21.0.0,>=16.2.0 in /srv/conda/envs/notebook/lib/python3.6/site-packages (from snowflake-connector-python==2.4.6) (19.1.0)\n",
      "Requirement already satisfied: pycryptodomex!=3.5.0,<4.0.0,>=3.2 in /srv/conda/envs/notebook/lib/python3.6/site-packages (from snowflake-connector-python==2.4.6) (3.9.8)\n",
      "Requirement already satisfied: cffi<2.0.0,>=1.9 in /srv/conda/envs/notebook/lib/python3.6/site-packages (from snowflake-connector-python==2.4.6) (1.14.3)\n",
      "Requirement already satisfied: chardet<5,>=3.0.2 in /srv/conda/envs/notebook/lib/python3.6/site-packages (from snowflake-connector-python==2.4.6) (3.0.4)\n",
      "Requirement already satisfied: azure-storage-blob<13.0.0,>=12.0.0 in /srv/conda/envs/notebook/lib/python3.6/site-packages (from snowflake-connector-python==2.4.6) (12.5.0)\n",
      "Requirement already satisfied: pytz in /srv/conda/envs/notebook/lib/python3.6/site-packages (from snowflake-connector-python==2.4.6) (2020.1)\n",
      "Requirement already satisfied: asn1crypto<2.0.0,>0.24.0 in /srv/conda/envs/notebook/lib/python3.6/site-packages (from snowflake-connector-python==2.4.6) (1.4.0)\n",
      "Requirement already satisfied: dataclasses<1.0 in /srv/conda/envs/notebook/lib/python3.6/site-packages (from snowflake-connector-python==2.4.6) (0.7)\n",
      "Requirement already satisfied: azure-common<2.0.0 in /srv/conda/envs/notebook/lib/python3.6/site-packages (from snowflake-connector-python==2.4.6) (1.1.25)\n",
      "Requirement already satisfied: boto3<2.0.0,>=1.4.4 in /srv/conda/envs/notebook/lib/python3.6/site-packages (from snowflake-connector-python==2.4.6) (1.15.18)\n",
      "Requirement already satisfied: pyjwt<3.0.0 in /srv/conda/envs/notebook/lib/python3.6/site-packages (from snowflake-connector-python==2.4.6) (1.7.1)\n",
      "Requirement already satisfied: requests<3.0.0 in /srv/conda/envs/notebook/lib/python3.6/site-packages (from snowflake-connector-python==2.4.6) (2.23.0)\n",
      "Requirement already satisfied: certifi>=2017.4.17 in /srv/conda/envs/notebook/lib/python3.6/site-packages (from snowflake-connector-python==2.4.6) (2020.6.20)\n",
      "Requirement already satisfied: azure-core<2.0.0,>=1.6.0 in /srv/conda/envs/notebook/lib/python3.6/site-packages (from azure-storage-blob<13.0.0,>=12.0.0->snowflake-connector-python==2.4.6) (1.8.2)\n",
      "Requirement already satisfied: msrest>=0.6.10 in /srv/conda/envs/notebook/lib/python3.6/site-packages (from azure-storage-blob<13.0.0,>=12.0.0->snowflake-connector-python==2.4.6) (0.6.19)\n",
      "Requirement already satisfied: six>=1.6 in /srv/conda/envs/notebook/lib/python3.6/site-packages (from azure-core<2.0.0,>=1.6.0->azure-storage-blob<13.0.0,>=12.0.0->snowflake-connector-python==2.4.6) (1.15.0)\n",
      "Requirement already satisfied: jmespath<1.0.0,>=0.7.1 in /srv/conda/envs/notebook/lib/python3.6/site-packages (from boto3<2.0.0,>=1.4.4->snowflake-connector-python==2.4.6) (0.10.0)\n",
      "Requirement already satisfied: botocore<1.19.0,>=1.18.18 in /srv/conda/envs/notebook/lib/python3.6/site-packages (from boto3<2.0.0,>=1.4.4->snowflake-connector-python==2.4.6) (1.18.18)\n",
      "Requirement already satisfied: s3transfer<0.4.0,>=0.3.0 in /srv/conda/envs/notebook/lib/python3.6/site-packages (from boto3<2.0.0,>=1.4.4->snowflake-connector-python==2.4.6) (0.3.3)\n",
      "Requirement already satisfied: urllib3<1.26,>=1.20 in /srv/conda/envs/notebook/lib/python3.6/site-packages (from botocore<1.19.0,>=1.18.18->boto3<2.0.0,>=1.4.4->snowflake-connector-python==2.4.6) (1.25.11)\n",
      "Requirement already satisfied: python-dateutil<3.0.0,>=2.1 in /srv/conda/envs/notebook/lib/python3.6/site-packages (from botocore<1.19.0,>=1.18.18->boto3<2.0.0,>=1.4.4->snowflake-connector-python==2.4.6) (2.8.1)\n",
      "Requirement already satisfied: pycparser in /srv/conda/envs/notebook/lib/python3.6/site-packages (from cffi<2.0.0,>=1.9->snowflake-connector-python==2.4.6) (2.20)\n",
      "Requirement already satisfied: isodate>=0.6.0 in /srv/conda/envs/notebook/lib/python3.6/site-packages (from msrest>=0.6.10->azure-storage-blob<13.0.0,>=12.0.0->snowflake-connector-python==2.4.6) (0.6.0)\n",
      "Requirement already satisfied: requests-oauthlib>=0.5.0 in /srv/conda/envs/notebook/lib/python3.6/site-packages (from msrest>=0.6.10->azure-storage-blob<13.0.0,>=12.0.0->snowflake-connector-python==2.4.6) (1.3.0)\n",
      "Requirement already satisfied: oauthlib>=3.0.0 in /srv/conda/envs/notebook/lib/python3.6/site-packages (from requests-oauthlib>=0.5.0->msrest>=0.6.10->azure-storage-blob<13.0.0,>=12.0.0->snowflake-connector-python==2.4.6) (3.1.0)\n"
     ]
    }
   ],
   "source": [
    "!pip install snowflake-connector-python==2.4.6"
   ]
  },
  {
   "cell_type": "code",
   "execution_count": 7,
   "id": "positive-curtis",
   "metadata": {},
   "outputs": [],
   "source": [
    "# setup.py\n",
    "# Created 20210524 1537 \n",
    "# Invoke with %run \"C:\\\\setup.py\"\n",
    "# Modified (see version)\n",
    "\n",
    "VERSION = \"20210708 0933 \"\n",
    "\n",
    "import datetime\n",
    "import humanize\n",
    "import numpy as np\n",
    "import os\n",
    "import pandas as pd\n",
    "import plotly.express as px\n",
    "import pyperclip\n",
    "import re\n",
    "import sidetable\n",
    "import snowflake.connector\n",
    "import time\n",
    "from snowflake.connector.pandas_tools import write_pandas\n",
    "from dotenv import load_dotenv\n",
    "\n",
    "# _ = load_dotenv()"
   ]
  },
  {
   "cell_type": "code",
   "execution_count": 8,
   "id": "understood-armor",
   "metadata": {},
   "outputs": [],
   "source": [
    "# Get non-null counts\n",
    "pd.options.display.max_info_rows = 16907850\n",
    "\n",
    "# Connection string\n",
    "conn = snowflake.connector.connect(\n",
    "#                 user=os.getenv('user'),\n",
    "#                 password=os.getenv('password'),\n",
    "#                 account=os.getenv('account'),\n",
    "#                 warehouse=os.getenv('warehouse'),\n",
    "#                 database=os.getenv('database'),\n",
    "#                 schema=os.getenv('schema')\n",
    "                user='jgraves',\n",
    "                password='',\n",
    "                account='CZ86276.ap-southeast-1',\n",
    "                warehouse='COMPUTE_WH',\n",
    "                database='DEMO_DB',\n",
    "                schema='PUBLIC'\n",
    "                )"
   ]
  },
  {
   "cell_type": "code",
   "execution_count": 9,
   "id": "metric-observation",
   "metadata": {},
   "outputs": [
    {
     "name": "stdout",
     "output_type": "stream",
     "text": [
      "Setup Complete v 20210708 0933 \n"
     ]
    }
   ],
   "source": [
    "# Execute a statement that will generate a result set.\n",
    "cur = conn.cursor()\n",
    "\n",
    "def compare_sets(list1, list2):\n",
    "    \"\"\"Make a count of the intersections of two sets, A and B\"\"\"\n",
    "    set1 = set(list1)\n",
    "    set2 = set(list2)\n",
    "    set2_intersection_set1 = set2.intersection(set1)\n",
    "    result = {'IN A':[len(set1), len(set2_intersection_set1), round(len(set1)/len(set1)*100,1), round(len(set2_intersection_set1)/len(set2)*100,1)]}\n",
    "    result['IN B'] = [len(set2_intersection_set1), len(set2), round(len(set2_intersection_set1)/len(set1)*100,1), round(len(set2)/len(set2)*100,1)]\n",
    "    result['NOT IN A'] = [0, len(set2 - set1), 0, round(len(set2 - set1)/len(set2)*100,1)]\n",
    "    result['NOT IN B'] = [len(set1 - set2), 0, round(len(set1 - set2)/len(set1)*100,1), 0]\n",
    "    df = pd.DataFrame.from_dict(result, orient='index', columns=['A', 'B', '% of A', '% of B'])\n",
    "    return df\n",
    "\n",
    "\n",
    "def d(vars):\n",
    "    \"\"\"List of variables starting with string \"df\" in reverse order. Usage: d(dir())\n",
    "\n",
    "    @vars list of variables output by dir() command\n",
    "    \"\"\"\n",
    "    list_of_dfs = [item for item in vars if (item.find('df') == 0 and item.find('_') == -1 and item != 'dfs')]\n",
    "    list_of_dfs.sort(key=lambda x:int(re.sub(\"[^0-9]\", \"\", x.replace('df',''))) if len(x) > 2 else 0, reverse=True)\n",
    "    return list_of_dfs\n",
    "\n",
    "\n",
    "def e(start_time):\n",
    "    \"\"\"Return human readable time delta\n",
    "\n",
    "    @start_time time to compare to current time\n",
    "    \"\"\"\n",
    "    print(f'Time now: {datetime.datetime.now().strftime(\"%Y-%m-%d %H:%M\")}')\n",
    "    print(f\"Time since start: {humanize.precisedelta(time.monotonic() - start_time)}\")\n",
    "\n",
    "\n",
    "def execute(sql):\n",
    "    \"\"\"Execute a SQL command\"\"\"\n",
    "    start_time = time.monotonic()\n",
    "    _ = cur.execute(sql)\n",
    "    end_time = time.monotonic()\n",
    "    elapsed = end_time - start_time\n",
    "    print(f\"Elapsed time {elapsed:.2f}\")\n",
    "    return\n",
    "\n",
    "\n",
    "def find_col_with(df, char_to_find):\n",
    "    \"\"\"Return column index of first column containing char_to_find\n",
    "\n",
    "    @char_to_find character to search for in column name\n",
    "    \"\"\"\n",
    "    first_column_with_char_to_find = [col for col in df.columns if col.find(char_to_find) > -1][0]\n",
    "    return list(df.columns).index(first_column_with_char_to_find)\n",
    "\n",
    "\n",
    "def find_max_order(df, start_col=1):\n",
    "    \"\"\"Find the max value in each column and use it to put columns in rank order\n",
    "\n",
    "    @start_col Index of starting column (typically 1 as first column -- column 0 -- is a date or label)\n",
    "    \"\"\"\n",
    "    return list(df[df.columns[start_col:]].max().sort_values(ascending=False).keys())\n",
    "\n",
    "\n",
    "def find_percentage_total(df, start_col=1):\n",
    "    \"\"\"Find total and percent of total for columns of Pandas dataframe\n",
    "\n",
    "    @start_col Index of starting column (typically 1 as first column -- column 0 -- is a date or label)\n",
    "    \"\"\"\n",
    "    # Get values for col1,col2 and col3\n",
    "    total = pd.Series(data=np.zeros(len(df)))\n",
    "    col_count = len(df.columns)\n",
    "    for i in range(start_col, col_count):\n",
    "        total += df.iloc[:,i]\n",
    "    df.insert(len(df.columns), 'total', total)\n",
    "    for i in range(start_col, col_count + 1):        \n",
    "        pct_of_total = round((df.iloc[:,i]/total)*100, 2)\n",
    "\n",
    "        # Create Pandas DF with new column of pct_of_total\n",
    "        df.insert(len(df.columns),f\"{df.columns[i]} %\", pct_of_total)\n",
    "    \n",
    "    # Pull original dataframe to show total and %\n",
    "    return df\n",
    "\n",
    "\n",
    "def query(sql):\n",
    "    \"\"\"Run a SQL query and fetch result into Pandas DataFrame\"\"\"\n",
    "    start_time = time.monotonic()\n",
    "    _ = cur.execute(sql)\n",
    "    df = cur.fetch_pandas_all()\n",
    "    end_time = time.monotonic()\n",
    "    elapsed = end_time - start_time\n",
    "    print(f\"Elapsed time {elapsed:.2f}\")\n",
    "    return df\n",
    "\n",
    "\n",
    "def t(title_string):\n",
    "    \"\"\"Add \"as at {today}\" to title. Usage: t(title_sting)\n",
    "\n",
    "    @title_string text to preceed the \"as at\" part\n",
    "    \"\"\"\n",
    "    today = datetime.datetime.today().strftime('%d %b %Y')\n",
    "    title = f\"{title_string} as at {today}\"\n",
    "    print(title)\n",
    "    pyperclip.copy(title)\n",
    "    print(\"(now on clipboard)\")\n",
    "    return title\n",
    "\n",
    "\n",
    "start_time = time.monotonic()\n",
    "print(f\"Setup Complete v {VERSION}\")"
   ]
  },
  {
   "cell_type": "code",
   "execution_count": 10,
   "id": "dirty-italian",
   "metadata": {},
   "outputs": [
    {
     "name": "stdout",
     "output_type": "stream",
     "text": [
      "Elapsed time 0.29\n"
     ]
    },
    {
     "data": {
      "text/html": [
       "<div>\n",
       "<style scoped>\n",
       "    .dataframe tbody tr th:only-of-type {\n",
       "        vertical-align: middle;\n",
       "    }\n",
       "\n",
       "    .dataframe tbody tr th {\n",
       "        vertical-align: top;\n",
       "    }\n",
       "\n",
       "    .dataframe thead th {\n",
       "        text-align: right;\n",
       "    }\n",
       "</style>\n",
       "<table border=\"1\" class=\"dataframe\">\n",
       "  <thead>\n",
       "    <tr style=\"text-align: right;\">\n",
       "      <th></th>\n",
       "      <th>V</th>\n",
       "      <th>T</th>\n",
       "    </tr>\n",
       "  </thead>\n",
       "  <tbody>\n",
       "    <tr>\n",
       "      <th>0</th>\n",
       "      <td>{\\n  \"city\": {\\n    \"coord\": {\\n      \"lat\": 4...</td>\n",
       "      <td>2019-05-06 23:19:29</td>\n",
       "    </tr>\n",
       "  </tbody>\n",
       "</table>\n",
       "</div>"
      ],
      "text/plain": [
       "                                                   V                   T\n",
       "0  {\\n  \"city\": {\\n    \"coord\": {\\n      \"lat\": 4... 2019-05-06 23:19:29"
      ]
     },
     "execution_count": 10,
     "metadata": {},
     "output_type": "execute_result"
    }
   ],
   "source": [
    "df = query(\"\"\"SELECT * FROM \"SNOWFLAKE_SAMPLE_DATA\".\"WEATHER\".\"DAILY_14_TOTAL\" LIMIT 1\n",
    "\"\"\")\n",
    "df"
   ]
  },
  {
   "cell_type": "code",
   "execution_count": 11,
   "id": "neural-brighton",
   "metadata": {},
   "outputs": [
    {
     "name": "stdout",
     "output_type": "stream",
     "text": [
      "Time now: 2021-07-19 11:53\n",
      "Time since start: 0 seconds\n"
     ]
    }
   ],
   "source": [
    "e(start_time)"
   ]
  }
 ],
 "metadata": {
  "kernelspec": {
   "display_name": "Python 3",
   "language": "python",
   "name": "python3"
  },
  "language_info": {
   "codemirror_mode": {
    "name": "ipython",
    "version": 3
   },
   "file_extension": ".py",
   "mimetype": "text/x-python",
   "name": "python",
   "nbconvert_exporter": "python",
   "pygments_lexer": "ipython3",
   "version": "3.6.13"
  }
 },
 "nbformat": 4,
 "nbformat_minor": 5
}
