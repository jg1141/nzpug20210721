{
  "nbformat": 4,
  "nbformat_minor": 5,
  "metadata": {
    "kernelspec": {
      "display_name": "Python 3",
      "language": "python",
      "name": "python3"
    },
    "language_info": {
      "codemirror_mode": {
        "name": "ipython",
        "version": 3
      },
      "file_extension": ".py",
      "mimetype": "text/x-python",
      "name": "python",
      "nbconvert_exporter": "python",
      "pygments_lexer": "ipython3",
      "version": "3.6.13"
    },
    "colab": {
      "name": "NZPUG Demo 2 20210721 - Write to Snowflake.ipynb",
      "provenance": []
    }
  },
  "cells": [
    {
      "cell_type": "code",
      "metadata": {
        "id": "positive-curtis"
      },
      "source": [
        "# setup.py\n",
        "# Created 20210524 1537 \n",
        "# Invoke with %run \"C:\\\\setup.py\"\n",
        "# Modified (see version)\n",
        "\n",
        "VERSION = \"20210708 0933 \"\n",
        "\n",
        "import datetime\n",
        "import humanize\n",
        "import numpy as np\n",
        "import os\n",
        "import pandas as pd\n",
        "import plotly.express as px\n",
        "import pyperclip\n",
        "import re\n",
        "import sidetable\n",
        "import snowflake.connector\n",
        "import time\n",
        "from snowflake.connector.pandas_tools import write_pandas\n",
        "from dotenv import load_dotenv\n",
        "\n",
        "# _ = load_dotenv()"
      ],
      "id": "positive-curtis",
      "execution_count": 1,
      "outputs": []
    },
    {
      "cell_type": "code",
      "metadata": {
        "id": "understood-armor"
      },
      "source": [
        "# Get non-null counts\n",
        "pd.options.display.max_info_rows = 16907850\n",
        "\n",
        "# Connection string\n",
        "conn = snowflake.connector.connect(\n",
        "#                 user=os.getenv('user'),\n",
        "#                 password=os.getenv('password'),\n",
        "#                 account=os.getenv('account'),\n",
        "#                 warehouse=os.getenv('warehouse'),\n",
        "#                 database=os.getenv('database'),\n",
        "#                 schema=os.getenv('schema')\n",
        "                user='jgraves',\n",
        "                password='',\n",
        "                account='CZ86276.ap-southeast-1',\n",
        "                warehouse='COMPUTE_WH',\n",
        "                database='DEMO_DB',\n",
        "                schema='PUBLIC'\n",
        "                )"
      ],
      "id": "understood-armor",
      "execution_count": 2,
      "outputs": []
    },
    {
      "cell_type": "code",
      "metadata": {
        "colab": {
          "base_uri": "https://localhost:8080/"
        },
        "id": "metric-observation",
        "outputId": "a4c4504c-3ac5-415d-a807-9fc8088081d1"
      },
      "source": [
        "# Execute a statement that will generate a result set.\n",
        "cur = conn.cursor()\n",
        "\n",
        "def compare_sets(list1, list2):\n",
        "    \"\"\"Make a count of the intersections of two sets, A and B\"\"\"\n",
        "    set1 = set(list1)\n",
        "    set2 = set(list2)\n",
        "    set2_intersection_set1 = set2.intersection(set1)\n",
        "    result = {'IN A':[len(set1), len(set2_intersection_set1), round(len(set1)/len(set1)*100,1), round(len(set2_intersection_set1)/len(set2)*100,1)]}\n",
        "    result['IN B'] = [len(set2_intersection_set1), len(set2), round(len(set2_intersection_set1)/len(set1)*100,1), round(len(set2)/len(set2)*100,1)]\n",
        "    result['NOT IN A'] = [0, len(set2 - set1), 0, round(len(set2 - set1)/len(set2)*100,1)]\n",
        "    result['NOT IN B'] = [len(set1 - set2), 0, round(len(set1 - set2)/len(set1)*100,1), 0]\n",
        "    df = pd.DataFrame.from_dict(result, orient='index', columns=['A', 'B', '% of A', '% of B'])\n",
        "    return df\n",
        "\n",
        "\n",
        "def d(vars):\n",
        "    \"\"\"List of variables starting with string \"df\" in reverse order. Usage: d(dir())\n",
        "\n",
        "    @vars list of variables output by dir() command\n",
        "    \"\"\"\n",
        "    list_of_dfs = [item for item in vars if (item.find('df') == 0 and item.find('_') == -1 and item != 'dfs')]\n",
        "    list_of_dfs.sort(key=lambda x:int(re.sub(\"[^0-9]\", \"\", x.replace('df',''))) if len(x) > 2 else 0, reverse=True)\n",
        "    return list_of_dfs\n",
        "\n",
        "\n",
        "def e(start_time):\n",
        "    \"\"\"Return human readable time delta\n",
        "\n",
        "    @start_time time to compare to current time\n",
        "    \"\"\"\n",
        "    print(f'Time now: {datetime.datetime.now().strftime(\"%Y-%m-%d %H:%M\")}')\n",
        "    print(f\"Time since start: {humanize.naturaldelta(time.monotonic() - start_time)}\")\n",
        "\n",
        "\n",
        "def execute(sql):\n",
        "    \"\"\"Execute a SQL command\"\"\"\n",
        "    start_time = time.monotonic()\n",
        "    _ = cur.execute(sql)\n",
        "    end_time = time.monotonic()\n",
        "    elapsed = end_time - start_time\n",
        "    print(f\"Elapsed time {elapsed:.2f}\")\n",
        "    return\n",
        "\n",
        "\n",
        "def find_col_with(df, char_to_find):\n",
        "    \"\"\"Return column index of first column containing char_to_find\n",
        "\n",
        "    @char_to_find character to search for in column name\n",
        "    \"\"\"\n",
        "    first_column_with_char_to_find = [col for col in df.columns if col.find(char_to_find) > -1][0]\n",
        "    return list(df.columns).index(first_column_with_char_to_find)\n",
        "\n",
        "\n",
        "def find_max_order(df, start_col=1):\n",
        "    \"\"\"Find the max value in each column and use it to put columns in rank order\n",
        "\n",
        "    @start_col Index of starting column (typically 1 as first column -- column 0 -- is a date or label)\n",
        "    \"\"\"\n",
        "    return list(df[df.columns[start_col:]].max().sort_values(ascending=False).keys())\n",
        "\n",
        "\n",
        "def find_percentage_total(df, start_col=1):\n",
        "    \"\"\"Find total and percent of total for columns of Pandas dataframe\n",
        "\n",
        "    @start_col Index of starting column (typically 1 as first column -- column 0 -- is a date or label)\n",
        "    \"\"\"\n",
        "    # Get values for col1,col2 and col3\n",
        "    total = pd.Series(data=np.zeros(len(df)))\n",
        "    col_count = len(df.columns)\n",
        "    for i in range(start_col, col_count):\n",
        "        total += df.iloc[:,i]\n",
        "    df.insert(len(df.columns), 'total', total)\n",
        "    for i in range(start_col, col_count + 1):        \n",
        "        pct_of_total = round((df.iloc[:,i]/total)*100, 2)\n",
        "\n",
        "        # Create Pandas DF with new column of pct_of_total\n",
        "        df.insert(len(df.columns),f\"{df.columns[i]} %\", pct_of_total)\n",
        "    \n",
        "    # Pull original dataframe to show total and %\n",
        "    return df\n",
        "\n",
        "\n",
        "def query(sql):\n",
        "    \"\"\"Run a SQL query and fetch result into Pandas DataFrame\"\"\"\n",
        "    start_time = time.monotonic()\n",
        "    _ = cur.execute(sql)\n",
        "    df = cur.fetch_pandas_all()\n",
        "    end_time = time.monotonic()\n",
        "    elapsed = end_time - start_time\n",
        "    print(f\"Elapsed time {elapsed:.2f}\")\n",
        "    return df\n",
        "\n",
        "\n",
        "def t(title_string):\n",
        "    \"\"\"Add \"as at {today}\" to title. Usage: t(title_sting)\n",
        "\n",
        "    @title_string text to preceed the \"as at\" part\n",
        "    \"\"\"\n",
        "    today = datetime.datetime.today().strftime('%d %b %Y')\n",
        "    title = f\"{title_string} as at {today}\"\n",
        "    print(title)\n",
        "    pyperclip.copy(title)\n",
        "    print(\"(now on clipboard)\")\n",
        "    return title\n",
        "\n",
        "\n",
        "start_time = time.monotonic()\n",
        "print(f\"Setup Complete v {VERSION}\")"
      ],
      "id": "metric-observation",
      "execution_count": 3,
      "outputs": [
        {
          "output_type": "stream",
          "text": [
            "Setup Complete v 20210708 0933 \n"
          ],
          "name": "stdout"
        }
      ]
    },
    {
      "cell_type": "code",
      "metadata": {
        "colab": {
          "base_uri": "https://localhost:8080/"
        },
        "id": "dirty-italian",
        "outputId": "7833e16e-e526-4c66-b2e9-c2ef404a71f0"
      },
      "source": [
        "df = query(\"\"\"SELECT * FROM \"SNOWFLAKE_SAMPLE_DATA\".\"WEATHER\".\"DAILY_14_TOTAL\" LIMIT 1\n",
        "\"\"\")\n",
        "def e(start_time):\n",
        "    \"\"\"Return human readable time delta\n",
        "\n",
        "    @start_time time to compare to current time\n",
        "    \"\"\"\n",
        "    print(f'Time now: {datetime.datetime.now().strftime(\"%Y-%m-%d %H:%M\")}')\n",
        "    print(f\"Time since start: {humanize.naturaldelta(time.monotonic() - start_time)}\")"
      ],
      "id": "dirty-italian",
      "execution_count": 4,
      "outputs": [
        {
          "output_type": "stream",
          "text": [
            "Elapsed time 0.28\n"
          ],
          "name": "stdout"
        }
      ]
    },
    {
      "cell_type": "code",
      "metadata": {
        "colab": {
          "base_uri": "https://localhost:8080/"
        },
        "id": "neural-brighton",
        "outputId": "f15a07da-6fc8-4d78-d2b7-29fa1530318d"
      },
      "source": [
        "def e(start_time):\n",
        "    \"\"\"Return human readable time delta\n",
        "\n",
        "    @start_time time to compare to current time\n",
        "    \"\"\"\n",
        "    print(f'Time now: {datetime.datetime.now().strftime(\"%Y-%m-%d %H:%M\")}')\n",
        "    print(f\"Time since start: {humanize.naturaldelta(time.monotonic() - start_time)}\")\n",
        "    \n",
        "e(start_time)"
      ],
      "id": "neural-brighton",
      "execution_count": 5,
      "outputs": [
        {
          "output_type": "stream",
          "text": [
            "Time now: 2021-07-20 10:42\n",
            "Time since start: a moment\n"
          ],
          "name": "stdout"
        }
      ]
    },
    {
      "cell_type": "code",
      "metadata": {
        "colab": {
          "base_uri": "https://localhost:8080/",
          "height": 141
        },
        "id": "BL2l8e4tdyMj",
        "outputId": "b406610d-c53a-498f-f115-82c0f202859a"
      },
      "source": [
        "df = pd.DataFrame.from_dict({\"a\":[1,2,3], \"b\":[4,5,6]})\n",
        "df"
      ],
      "id": "BL2l8e4tdyMj",
      "execution_count": 6,
      "outputs": [
        {
          "output_type": "execute_result",
          "data": {
            "text/html": [
              "<div>\n",
              "<style scoped>\n",
              "    .dataframe tbody tr th:only-of-type {\n",
              "        vertical-align: middle;\n",
              "    }\n",
              "\n",
              "    .dataframe tbody tr th {\n",
              "        vertical-align: top;\n",
              "    }\n",
              "\n",
              "    .dataframe thead th {\n",
              "        text-align: right;\n",
              "    }\n",
              "</style>\n",
              "<table border=\"1\" class=\"dataframe\">\n",
              "  <thead>\n",
              "    <tr style=\"text-align: right;\">\n",
              "      <th></th>\n",
              "      <th>a</th>\n",
              "      <th>b</th>\n",
              "    </tr>\n",
              "  </thead>\n",
              "  <tbody>\n",
              "    <tr>\n",
              "      <th>0</th>\n",
              "      <td>1</td>\n",
              "      <td>4</td>\n",
              "    </tr>\n",
              "    <tr>\n",
              "      <th>1</th>\n",
              "      <td>2</td>\n",
              "      <td>5</td>\n",
              "    </tr>\n",
              "    <tr>\n",
              "      <th>2</th>\n",
              "      <td>3</td>\n",
              "      <td>6</td>\n",
              "    </tr>\n",
              "  </tbody>\n",
              "</table>\n",
              "</div>"
            ],
            "text/plain": [
              "   a  b\n",
              "0  1  4\n",
              "1  2  5\n",
              "2  3  6"
            ]
          },
          "metadata": {
            "tags": []
          },
          "execution_count": 6
        }
      ]
    },
    {
      "cell_type": "code",
      "metadata": {
        "colab": {
          "base_uri": "https://localhost:8080/",
          "height": 35
        },
        "id": "_XwnuSGIeGMs",
        "outputId": "2e6a75d6-35c1-4950-81d1-9acc8b298361"
      },
      "source": [
        "sql = \"SELECT \"\n",
        "column_list = []\n",
        "for col in df.columns:\n",
        "  column_list.append(f'''{df[col].max()} as \"{col}\"''')\n",
        "sql += \", \".join(column_list)\n",
        "sql\n",
        "  "
      ],
      "id": "_XwnuSGIeGMs",
      "execution_count": 7,
      "outputs": [
        {
          "output_type": "execute_result",
          "data": {
            "application/vnd.google.colaboratory.intrinsic+json": {
              "type": "string"
            },
            "text/plain": [
              "'SELECT 3 as \"a\", 6 as \"b\"'"
            ]
          },
          "metadata": {
            "tags": []
          },
          "execution_count": 7
        }
      ]
    },
    {
      "cell_type": "code",
      "metadata": {
        "colab": {
          "base_uri": "https://localhost:8080/"
        },
        "id": "2WNhrETvaMy7",
        "outputId": "27528ddf-97e5-4619-e18e-aaecfcf4aca2"
      },
      "source": [
        "TABLE = \"NZPUG_DEMO\"\n",
        "execute(f\"\"\"DROP TABLE IF EXISTS {TABLE}\"\"\")\n",
        "execute(f\"\"\"CREATE TABLE {TABLE} AS ({sql})\"\"\")\n",
        "execute(f\"\"\"TRUNCATE TABLE IF EXISTS {TABLE}\"\"\")\n",
        "write_pandas(conn, df, TABLE)"
      ],
      "id": "2WNhrETvaMy7",
      "execution_count": 8,
      "outputs": [
        {
          "output_type": "stream",
          "text": [
            "Elapsed time 0.28\n",
            "Elapsed time 0.82\n",
            "Elapsed time 0.46\n"
          ],
          "name": "stdout"
        },
        {
          "output_type": "execute_result",
          "data": {
            "text/plain": [
              "(True,\n",
              " 1,\n",
              " 3,\n",
              " [('fmzfe/file0.txt', 'LOADED', 3, 3, 1, 0, None, None, None, None)])"
            ]
          },
          "metadata": {
            "tags": []
          },
          "execution_count": 8
        }
      ]
    },
    {
      "cell_type": "code",
      "metadata": {
        "colab": {
          "base_uri": "https://localhost:8080/",
          "height": 158
        },
        "id": "-NkTQZxYgpeU",
        "outputId": "ed674668-226a-4cb9-f8f5-3e23cf402167"
      },
      "source": [
        "df2 = query(f\"SELECT * FROM {TABLE}\")\n",
        "df2"
      ],
      "id": "-NkTQZxYgpeU",
      "execution_count": 9,
      "outputs": [
        {
          "output_type": "stream",
          "text": [
            "Elapsed time 1.65\n"
          ],
          "name": "stdout"
        },
        {
          "output_type": "execute_result",
          "data": {
            "text/html": [
              "<div>\n",
              "<style scoped>\n",
              "    .dataframe tbody tr th:only-of-type {\n",
              "        vertical-align: middle;\n",
              "    }\n",
              "\n",
              "    .dataframe tbody tr th {\n",
              "        vertical-align: top;\n",
              "    }\n",
              "\n",
              "    .dataframe thead th {\n",
              "        text-align: right;\n",
              "    }\n",
              "</style>\n",
              "<table border=\"1\" class=\"dataframe\">\n",
              "  <thead>\n",
              "    <tr style=\"text-align: right;\">\n",
              "      <th></th>\n",
              "      <th>a</th>\n",
              "      <th>b</th>\n",
              "    </tr>\n",
              "  </thead>\n",
              "  <tbody>\n",
              "    <tr>\n",
              "      <th>0</th>\n",
              "      <td>1</td>\n",
              "      <td>4</td>\n",
              "    </tr>\n",
              "    <tr>\n",
              "      <th>1</th>\n",
              "      <td>2</td>\n",
              "      <td>5</td>\n",
              "    </tr>\n",
              "    <tr>\n",
              "      <th>2</th>\n",
              "      <td>3</td>\n",
              "      <td>6</td>\n",
              "    </tr>\n",
              "  </tbody>\n",
              "</table>\n",
              "</div>"
            ],
            "text/plain": [
              "   a  b\n",
              "0  1  4\n",
              "1  2  5\n",
              "2  3  6"
            ]
          },
          "metadata": {
            "tags": []
          },
          "execution_count": 9
        }
      ]
    }
  ]
}